{
 "cells": [
  {
   "cell_type": "code",
   "execution_count": 1,
   "metadata": {
    "collapsed": true
   },
   "outputs": [],
   "source": [
    "import web3"
   ]
  },
  {
   "cell_type": "code",
   "execution_count": 2,
   "metadata": {
    "collapsed": true
   },
   "outputs": [],
   "source": [
    "from web3 import Web3"
   ]
  },
  {
   "cell_type": "code",
   "execution_count": 3,
   "metadata": {},
   "outputs": [
    {
     "data": {
      "text/plain": [
       "'🦄'"
      ]
     },
     "execution_count": 3,
     "metadata": {},
     "output_type": "execute_result"
    }
   ],
   "source": [
    "Web3.toText(hexstr=\"0xf09fa684\")"
   ]
  },
  {
   "cell_type": "code",
   "execution_count": 4,
   "metadata": {
    "collapsed": true
   },
   "outputs": [],
   "source": [
    "from web3.auto.infura.ropsten import w3\n"
   ]
  },
  {
   "cell_type": "code",
   "execution_count": null,
   "metadata": {
    "collapsed": true
   },
   "outputs": [],
   "source": []
  },
  {
   "cell_type": "code",
   "execution_count": null,
   "metadata": {
    "collapsed": true
   },
   "outputs": [],
   "source": [
    "# Set Up Environment"
   ]
  },
  {
   "cell_type": "code",
   "execution_count": 5,
   "metadata": {
    "collapsed": true
   },
   "outputs": [],
   "source": [
    "block = w3.eth.getBlock(4281234)\n",
    "block.hash"
   ]
  },
  {
   "cell_type": "code",
   "execution_count": 17,
   "metadata": {},
   "outputs": [],
   "source": [
    "from eth_account import Account\n",
    "acct = Account.privateKeyToAccount(\"0x246a16e57e359dc9826d73b85af7f96d31157d0c5eea80c9d74ff5a2698726d9\")\n",
    "acct.address"
   ]
  },
  {
   "cell_type": "code",
   "execution_count": 26,
   "metadata": {},
   "outputs": [],
   "source": [
    "balance = w3.eth.getBalance(acct.address)\n",
    "w3.fromWei(balance, \"ether\")"
   ]
  },
  {
   "cell_type": "code",
   "execution_count": null,
   "metadata": {
    "collapsed": true
   },
   "outputs": [],
   "source": []
  },
  {
   "cell_type": "code",
   "execution_count": null,
   "metadata": {
    "collapsed": true
   },
   "outputs": [],
   "source": [
    "# Test Code"
   ]
  },
  {
   "cell_type": "code",
   "execution_count": 28,
   "metadata": {
    "collapsed": true
   },
   "outputs": [],
   "source": [
    "bytecode = {\n",
    "\t\"linkReferences\": {},\n",
    "\t\"object\": \"608060405234801561001057600080fd5b506040516020806102ec8339810160405251610035338264010000000061003b810204565b506100ad565b600160a060020a038216151561005057600080fd5b6001805482019055600160a060020a038216600081815260208181526040808320805486019055805185815290517fddf252ad1be2c89b69c2b068fc378daa952ba7f163c4a11628f55a4df523b3ef929181900390910190a35050565b610230806100bc6000396000f3006080604052600436106100565763ffffffff7c010000000000000000000000000000000000000000000000000000000060003504166318160ddd811461005b57806370a0823114610082578063a9059cbb146100b0575b600080fd5b34801561006757600080fd5b506100706100f5565b60408051918252519081900360200190f35b34801561008e57600080fd5b5061007073ffffffffffffffffffffffffffffffffffffffff600435166100fb565b3480156100bc57600080fd5b506100e173ffffffffffffffffffffffffffffffffffffffff60043516602435610123565b604080519115158252519081900360200190f35b60015490565b73ffffffffffffffffffffffffffffffffffffffff1660009081526020819052604090205490565b6000610130338484610139565b50600192915050565b73ffffffffffffffffffffffffffffffffffffffff831660009081526020819052604090205481111561016b57600080fd5b73ffffffffffffffffffffffffffffffffffffffff8216151561018d57600080fd5b73ffffffffffffffffffffffffffffffffffffffff80841660008181526020818152604080832080548790039055938616808352918490208054860190558351858152935191937fddf252ad1be2c89b69c2b068fc378daa952ba7f163c4a11628f55a4df523b3ef929081900390910190a35050505600a165627a7a72305820a6504619b35da100f5f8b9b6147cd2eb309598b66694dce97c00579bfb97aa320029\",\n",
    "\t\"opcodes\": \"PUSH1 0x80 PUSH1 0x40 MSTORE CALLVALUE DUP1 ISZERO PUSH2 0x10 JUMPI PUSH1 0x0 DUP1 REVERT JUMPDEST POP PUSH1 0x40 MLOAD PUSH1 0x20 DUP1 PUSH2 0x2EC DUP4 CODECOPY DUP2 ADD PUSH1 0x40 MSTORE MLOAD PUSH2 0x35 CALLER DUP3 PUSH5 0x100000000 PUSH2 0x3B DUP2 MUL DIV JUMP JUMPDEST POP PUSH2 0xAD JUMP JUMPDEST PUSH1 0x1 PUSH1 0xA0 PUSH1 0x2 EXP SUB DUP3 AND ISZERO ISZERO PUSH2 0x50 JUMPI PUSH1 0x0 DUP1 REVERT JUMPDEST PUSH1 0x1 DUP1 SLOAD DUP3 ADD SWAP1 SSTORE PUSH1 0x1 PUSH1 0xA0 PUSH1 0x2 EXP SUB DUP3 AND PUSH1 0x0 DUP2 DUP2 MSTORE PUSH1 0x20 DUP2 DUP2 MSTORE PUSH1 0x40 DUP1 DUP4 KECCAK256 DUP1 SLOAD DUP7 ADD SWAP1 SSTORE DUP1 MLOAD DUP6 DUP2 MSTORE SWAP1 MLOAD PUSH32 0xDDF252AD1BE2C89B69C2B068FC378DAA952BA7F163C4A11628F55A4DF523B3EF SWAP3 SWAP2 DUP2 SWAP1 SUB SWAP1 SWAP2 ADD SWAP1 LOG3 POP POP JUMP JUMPDEST PUSH2 0x230 DUP1 PUSH2 0xBC PUSH1 0x0 CODECOPY PUSH1 0x0 RETURN STOP PUSH1 0x80 PUSH1 0x40 MSTORE PUSH1 0x4 CALLDATASIZE LT PUSH2 0x56 JUMPI PUSH4 0xFFFFFFFF PUSH29 0x100000000000000000000000000000000000000000000000000000000 PUSH1 0x0 CALLDATALOAD DIV AND PUSH4 0x18160DDD DUP2 EQ PUSH2 0x5B JUMPI DUP1 PUSH4 0x70A08231 EQ PUSH2 0x82 JUMPI DUP1 PUSH4 0xA9059CBB EQ PUSH2 0xB0 JUMPI JUMPDEST PUSH1 0x0 DUP1 REVERT JUMPDEST CALLVALUE DUP1 ISZERO PUSH2 0x67 JUMPI PUSH1 0x0 DUP1 REVERT JUMPDEST POP PUSH2 0x70 PUSH2 0xF5 JUMP JUMPDEST PUSH1 0x40 DUP1 MLOAD SWAP2 DUP3 MSTORE MLOAD SWAP1 DUP2 SWAP1 SUB PUSH1 0x20 ADD SWAP1 RETURN JUMPDEST CALLVALUE DUP1 ISZERO PUSH2 0x8E JUMPI PUSH1 0x0 DUP1 REVERT JUMPDEST POP PUSH2 0x70 PUSH20 0xFFFFFFFFFFFFFFFFFFFFFFFFFFFFFFFFFFFFFFFF PUSH1 0x4 CALLDATALOAD AND PUSH2 0xFB JUMP JUMPDEST CALLVALUE DUP1 ISZERO PUSH2 0xBC JUMPI PUSH1 0x0 DUP1 REVERT JUMPDEST POP PUSH2 0xE1 PUSH20 0xFFFFFFFFFFFFFFFFFFFFFFFFFFFFFFFFFFFFFFFF PUSH1 0x4 CALLDATALOAD AND PUSH1 0x24 CALLDATALOAD PUSH2 0x123 JUMP JUMPDEST PUSH1 0x40 DUP1 MLOAD SWAP2 ISZERO ISZERO DUP3 MSTORE MLOAD SWAP1 DUP2 SWAP1 SUB PUSH1 0x20 ADD SWAP1 RETURN JUMPDEST PUSH1 0x1 SLOAD SWAP1 JUMP JUMPDEST PUSH20 0xFFFFFFFFFFFFFFFFFFFFFFFFFFFFFFFFFFFFFFFF AND PUSH1 0x0 SWAP1 DUP2 MSTORE PUSH1 0x20 DUP2 SWAP1 MSTORE PUSH1 0x40 SWAP1 KECCAK256 SLOAD SWAP1 JUMP JUMPDEST PUSH1 0x0 PUSH2 0x130 CALLER DUP5 DUP5 PUSH2 0x139 JUMP JUMPDEST POP PUSH1 0x1 SWAP3 SWAP2 POP POP JUMP JUMPDEST PUSH20 0xFFFFFFFFFFFFFFFFFFFFFFFFFFFFFFFFFFFFFFFF DUP4 AND PUSH1 0x0 SWAP1 DUP2 MSTORE PUSH1 0x20 DUP2 SWAP1 MSTORE PUSH1 0x40 SWAP1 KECCAK256 SLOAD DUP2 GT ISZERO PUSH2 0x16B JUMPI PUSH1 0x0 DUP1 REVERT JUMPDEST PUSH20 0xFFFFFFFFFFFFFFFFFFFFFFFFFFFFFFFFFFFFFFFF DUP3 AND ISZERO ISZERO PUSH2 0x18D JUMPI PUSH1 0x0 DUP1 REVERT JUMPDEST PUSH20 0xFFFFFFFFFFFFFFFFFFFFFFFFFFFFFFFFFFFFFFFF DUP1 DUP5 AND PUSH1 0x0 DUP2 DUP2 MSTORE PUSH1 0x20 DUP2 DUP2 MSTORE PUSH1 0x40 DUP1 DUP4 KECCAK256 DUP1 SLOAD DUP8 SWAP1 SUB SWAP1 SSTORE SWAP4 DUP7 AND DUP1 DUP4 MSTORE SWAP2 DUP5 SWAP1 KECCAK256 DUP1 SLOAD DUP7 ADD SWAP1 SSTORE DUP4 MLOAD DUP6 DUP2 MSTORE SWAP4 MLOAD SWAP2 SWAP4 PUSH32 0xDDF252AD1BE2C89B69C2B068FC378DAA952BA7F163C4A11628F55A4DF523B3EF SWAP3 SWAP1 DUP2 SWAP1 SUB SWAP1 SWAP2 ADD SWAP1 LOG3 POP POP POP JUMP STOP LOG1 PUSH6 0x627A7A723058 KECCAK256 0xa6 POP 0x46 NOT 0xb3 0x5d LOG1 STOP 0xf5 0xf8 0xb9 0xb6 EQ PUSH29 0xD2EB309598B66694DCE97C00579BFB97AA320029000000000000000000 \",\n",
    "\t\"sourceMap\": \"162:2143:0:-;;;465:85;8:9:-1;5:2;;;30:1;27;20:12;5:2;465:85:0;;;;;;;;;;;;;514:31;520:10;465:85;514:5;;;;:31;:::i;:::-;465:85;162:2143;;2065:238;-1:-1:-1;;;;;2135:21:0;;;;2127:30;;;;;;2178:12;;;:20;;2163:35;;-1:-1:-1;;;;;2225:18:0;;-1:-1:-1;2225:18:0;;;;;;;;;;;;;:26;;2204:47;;2262:36;;;;;;;;;;;;;;;;;;2065:238;;:::o;162:2143::-;;;;;;;\"\n",
    "}"
   ]
  },
  {
   "cell_type": "code",
   "execution_count": 29,
   "metadata": {
    "collapsed": true
   },
   "outputs": [],
   "source": [
    "token_code = bytecode['object']"
   ]
  },
  {
   "cell_type": "code",
   "execution_count": 35,
   "metadata": {},
   "outputs": [],
   "source": [
    "token_abi = '''\n",
    "\n",
    "[\n",
    "\t{\n",
    "\t\t\"constant\": true,\n",
    "\t\t\"inputs\": [],\n",
    "\t\t\"name\": \"totalSupply\",\n",
    "\t\t\"outputs\": [\n",
    "\t\t\t{\n",
    "\t\t\t\t\"name\": \"\",\n",
    "\t\t\t\t\"type\": \"uint256\"\n",
    "\t\t\t}\n",
    "\t\t],\n",
    "\t\t\"payable\": false,\n",
    "\t\t\"stateMutability\": \"view\",\n",
    "\t\t\"type\": \"function\"\n",
    "\t},\n",
    "\t{\n",
    "\t\t\"constant\": true,\n",
    "\t\t\"inputs\": [\n",
    "\t\t\t{\n",
    "\t\t\t\t\"name\": \"owner\",\n",
    "\t\t\t\t\"type\": \"address\"\n",
    "\t\t\t}\n",
    "\t\t],\n",
    "\t\t\"name\": \"balanceOf\",\n",
    "\t\t\"outputs\": [\n",
    "\t\t\t{\n",
    "\t\t\t\t\"name\": \"\",\n",
    "\t\t\t\t\"type\": \"uint256\"\n",
    "\t\t\t}\n",
    "\t\t],\n",
    "\t\t\"payable\": false,\n",
    "\t\t\"stateMutability\": \"view\",\n",
    "\t\t\"type\": \"function\"\n",
    "\t},\n",
    "\t{\n",
    "\t\t\"constant\": false,\n",
    "\t\t\"inputs\": [\n",
    "\t\t\t{\n",
    "\t\t\t\t\"name\": \"to\",\n",
    "\t\t\t\t\"type\": \"address\"\n",
    "\t\t\t},\n",
    "\t\t\t{\n",
    "\t\t\t\t\"name\": \"value\",\n",
    "\t\t\t\t\"type\": \"uint256\"\n",
    "\t\t\t}\n",
    "\t\t],\n",
    "\t\t\"name\": \"transfer\",\n",
    "\t\t\"outputs\": [\n",
    "\t\t\t{\n",
    "\t\t\t\t\"name\": \"\",\n",
    "\t\t\t\t\"type\": \"bool\"\n",
    "\t\t\t}\n",
    "\t\t],\n",
    "\t\t\"payable\": false,\n",
    "\t\t\"stateMutability\": \"nonpayable\",\n",
    "\t\t\"type\": \"function\"\n",
    "\t},\n",
    "\t{\n",
    "\t\t\"inputs\": [\n",
    "\t\t\t{\n",
    "\t\t\t\t\"name\": \"startBalance\",\n",
    "\t\t\t\t\"type\": \"uint256\"\n",
    "\t\t\t}\n",
    "\t\t],\n",
    "\t\t\"payable\": false,\n",
    "\t\t\"stateMutability\": \"nonpayable\",\n",
    "\t\t\"type\": \"constructor\"\n",
    "\t},\n",
    "\t{\n",
    "\t\t\"anonymous\": false,\n",
    "\t\t\"inputs\": [\n",
    "\t\t\t{\n",
    "\t\t\t\t\"indexed\": true,\n",
    "\t\t\t\t\"name\": \"from\",\n",
    "\t\t\t\t\"type\": \"address\"\n",
    "\t\t\t},\n",
    "\t\t\t{\n",
    "\t\t\t\t\"indexed\": true,\n",
    "\t\t\t\t\"name\": \"to\",\n",
    "\t\t\t\t\"type\": \"address\"\n",
    "\t\t\t},\n",
    "\t\t\t{\n",
    "\t\t\t\t\"indexed\": false,\n",
    "\t\t\t\t\"name\": \"value\",\n",
    "\t\t\t\t\"type\": \"uint256\"\n",
    "\t\t\t}\n",
    "\t\t],\n",
    "\t\t\"name\": \"Transfer\",\n",
    "\t\t\"type\": \"event\"\n",
    "\t},\n",
    "\t{\n",
    "\t\t\"anonymous\": false,\n",
    "\t\t\"inputs\": [\n",
    "\t\t\t{\n",
    "\t\t\t\t\"indexed\": true,\n",
    "\t\t\t\t\"name\": \"owner\",\n",
    "\t\t\t\t\"type\": \"address\"\n",
    "\t\t\t},\n",
    "\t\t\t{\n",
    "\t\t\t\t\"indexed\": true,\n",
    "\t\t\t\t\"name\": \"spender\",\n",
    "\t\t\t\t\"type\": \"address\"\n",
    "\t\t\t},\n",
    "\t\t\t{\n",
    "\t\t\t\t\"indexed\": false,\n",
    "\t\t\t\t\"name\": \"value\",\n",
    "\t\t\t\t\"type\": \"uint256\"\n",
    "\t\t\t}\n",
    "\t\t],\n",
    "\t\t\"name\": \"Approval\",\n",
    "\t\t\"type\": \"event\"\n",
    "\t}\n",
    "]\n",
    "\n",
    "'''.strip()"
   ]
  },
  {
   "cell_type": "code",
   "execution_count": 92,
   "metadata": {
    "collapsed": true
   },
   "outputs": [],
   "source": [
    "# Build the contract object in preparation for deployment\n",
    "token_deployer = w3.eth.contract(abi=token_abi, bytecode=token_code)\n"
   ]
  },
  {
   "cell_type": "code",
   "execution_count": 93,
   "metadata": {
    "collapsed": true
   },
   "outputs": [],
   "source": [
    "# Build transaction\n",
    "init = token_deployer.constructor(1000)\n",
    "txn = init.buildTransaction({'gas': 320000})"
   ]
  },
  {
   "cell_type": "code",
   "execution_count": 101,
   "metadata": {
    "collapsed": true
   },
   "outputs": [],
   "source": [
    "# define \n",
    "def sign_transaction(txn):\n",
    "    # Flesh out the transaction for local signing\n",
    "    next_nonce = w3.eth.getTransactionCount(acct.address)\n",
    "    signable_transaction = dict(\n",
    "      txn,\n",
    "      nonce=next_nonce,\n",
    "      gasPrice=w3.toWei(4, 'gwei'),\n",
    "    )\n",
    "    # Sign transaction\n",
    "    signature_info = acct.signTransaction(signable_transaction)\n",
    "    # Broadcast transaction\n",
    "    txn_hash = w3.eth.sendRawTransaction(signature_info.rawTransaction)\n",
    "    # Wait for the transaction to be mined\n",
    "    receipt = w3.eth.waitForTransactionReceipt(txn_hash)\n",
    "\n",
    "    return receipt"
   ]
  },
  {
   "cell_type": "code",
   "execution_count": 102,
   "metadata": {},
   "outputs": [
    {
     "data": {
      "text/plain": [
       "AttributeDict({'blockHash': HexBytes('0xca02ead30e5f4242e2942bea928350200ea542b6fa514cd40a0734c4d1aa2e86'),\n",
       " 'blockNumber': 4633512,\n",
       " 'contractAddress': '0x80ED210885d290B54DD9b052DD795f3CcBb94E7b',\n",
       " 'cumulativeGasUsed': 4482809,\n",
       " 'from': '0x681a298b2a05bfd425a47246922da2cdb5a8b450',\n",
       " 'gasUsed': 254322,\n",
       " 'logs': [AttributeDict({'address': '0x80ED210885d290B54DD9b052DD795f3CcBb94E7b',\n",
       "   'blockHash': HexBytes('0xca02ead30e5f4242e2942bea928350200ea542b6fa514cd40a0734c4d1aa2e86'),\n",
       "   'blockNumber': 4633512,\n",
       "   'data': '0x00000000000000000000000000000000000000000000000000000000000003e8',\n",
       "   'logIndex': 14,\n",
       "   'removed': False,\n",
       "   'topics': [HexBytes('0xddf252ad1be2c89b69c2b068fc378daa952ba7f163c4a11628f55a4df523b3ef'),\n",
       "    HexBytes('0x0000000000000000000000000000000000000000000000000000000000000000'),\n",
       "    HexBytes('0x000000000000000000000000681a298b2a05bfd425a47246922da2cdb5a8b450')],\n",
       "   'transactionHash': HexBytes('0xd3cb9c05fe532b498febb0d40908cf226d1647ee27b336ba390921f9ad6107fc'),\n",
       "   'transactionIndex': 13})],\n",
       " 'logsBloom': HexBytes('0x00000000000000000000000000000000000000000000000001000000000000000000000000000000000000000000000000000000000000000000000000000000000000000000000000000008000000000000000000000000000000000000000000000000020000000000000000000800000000000000000040000010000000000000000000000000000000000000000000000000000000000000000000000000000100000040000000000020000000000000000000000000000080000000000000000002000000000000000000000000000000000000000000000000000020000000000000000000000000000000000000000000000000000000000000000000'),\n",
       " 'status': 1,\n",
       " 'to': None,\n",
       " 'transactionHash': HexBytes('0xd3cb9c05fe532b498febb0d40908cf226d1647ee27b336ba390921f9ad6107fc'),\n",
       " 'transactionIndex': 13})"
      ]
     },
     "execution_count": 102,
     "metadata": {},
     "output_type": "execute_result"
    }
   ],
   "source": [
    "receipt = sign_transaction(txn)\n",
    "receipt"
   ]
  },
  {
   "cell_type": "code",
   "execution_count": 47,
   "metadata": {
    "collapsed": true
   },
   "outputs": [],
   "source": [
    "# Get deployed contract\n",
    "token = w3.eth.contract(address=receipt.contractAddress, abi=token_abi)"
   ]
  },
  {
   "cell_type": "code",
   "execution_count": 48,
   "metadata": {},
   "outputs": [
    {
     "data": {
      "text/plain": [
       "1000"
      ]
     },
     "execution_count": 48,
     "metadata": {},
     "output_type": "execute_result"
    }
   ],
   "source": [
    "# Check your balance\n",
    "token.functions.balanceOf(acct.address).call()"
   ]
  },
  {
   "cell_type": "code",
   "execution_count": null,
   "metadata": {
    "collapsed": true
   },
   "outputs": [],
   "source": []
  },
  {
   "cell_type": "code",
   "execution_count": 52,
   "metadata": {
    "collapsed": true
   },
   "outputs": [],
   "source": [
    "# Connect to ENS \n",
    "from ens import ENS\n",
    "rns = ENS(\n",
    "  w3.providers,\n",
    "  addr=\"0xbaB9717617D7e50264dE6Ee0Ef152a7CA452CF9C\")\n"
   ]
  },
  {
   "cell_type": "code",
   "execution_count": 78,
   "metadata": {},
   "outputs": [
    {
     "data": {
      "text/plain": [
       "'0xE2fa2fFB27e28E0d28F138c017097aC37Cd378BD'"
      ]
     },
     "execution_count": 78,
     "metadata": {},
     "output_type": "execute_result"
    }
   ],
   "source": [
    "# Test ENS \n",
    "rns.address('carvertoken.test')\n",
    "# returns 0x13764E8D95F1a659E35274Cf7e8bDf7Cc05188D6"
   ]
  },
  {
   "cell_type": "code",
   "execution_count": 79,
   "metadata": {
    "collapsed": true
   },
   "outputs": [],
   "source": [
    "# Connect to giveaway registrar\n",
    "reg_addr = rns.address('test')\n",
    "reg_abi = [{'inputs': [{'name': 'label', 'type': 'bytes32'}, \n",
    "   {'name': 'owner', 'type': 'address'}],\n",
    "  'name': 'register', 'outputs': [], 'payable': False,\n",
    "  'stateMutability': 'nonpayable', 'constant': False,\n",
    "  'type': 'function'}]\n",
    "reg = w3.eth.contract(address=reg_addr, abi=reg_abi)\n"
   ]
  },
  {
   "cell_type": "code",
   "execution_count": 80,
   "metadata": {
    "collapsed": true
   },
   "outputs": [],
   "source": [
    "# Get a name\n",
    "my_hash = rns.labelhash('carvertokendeepyr')\n",
    "txn = reg.functions.register(my_hash, acct.address).buildTransaction({'gas': 320000})"
   ]
  },
  {
   "cell_type": "code",
   "execution_count": 81,
   "metadata": {
    "collapsed": true
   },
   "outputs": [],
   "source": [
    "receipt = sign_transaction(txn)\n",
    "receipt"
   ]
  },
  {
   "cell_type": "code",
   "execution_count": null,
   "metadata": {},
   "outputs": [],
   "source": []
  },
  {
   "cell_type": "code",
   "execution_count": 83,
   "metadata": {
    "collapsed": true
   },
   "outputs": [],
   "source": [
    "# Use public resolver for your new name\n",
    "resolver_addr = rns.address('resolver.eth')\n",
    "raw_ens = rns.ens._classic_contract\n",
    "txn = raw_ens.functions.setResolver(\n",
    "  rns.namehash('carvertokendeepyr.test'),\n",
    "  resolver_addr,\n",
    ").buildTransaction({'gas': 320000})"
   ]
  },
  {
   "cell_type": "code",
   "execution_count": 84,
   "metadata": {
    "collapsed": true
   },
   "outputs": [],
   "source": [
    "receipt = sign_transaction(txn)\n",
    "receipt"
   ]
  },
  {
   "cell_type": "code",
   "execution_count": null,
   "metadata": {},
   "outputs": [],
   "source": []
  },
  {
   "cell_type": "code",
   "execution_count": 103,
   "metadata": {
    "collapsed": true
   },
   "outputs": [],
   "source": [
    "# Load resolver contract\n",
    "resolver_abi = [{\"inputs\": [\n",
    "   {\"name\": \"node\", \"type\": \"bytes32\"}, {\"name\": \"addr\", \"type\": \"address\"}],\n",
    "  \"constant\": False, \"name\": \"setAddr\", \"outputs\": [],\n",
    "  \"stateMutability\": \"nonpayable\",\n",
    "  \"payable\": False, \"type\": \"function\"}]\n",
    "resolver = w3.eth.contract(address=resolver_addr, abi=resolver_abi)\n"
   ]
  },
  {
   "cell_type": "code",
   "execution_count": 104,
   "metadata": {
    "collapsed": true
   },
   "outputs": [],
   "source": [
    "# In public resolver, point name at contract\n",
    "namehash = rns.namehash('carvertokendeepyr.test')\n",
    "txn = resolver.functions.setAddr(namehash, token.address).buildTransaction({'gas': 320000})"
   ]
  },
  {
   "cell_type": "code",
   "execution_count": 105,
   "metadata": {},
   "outputs": [
    {
     "data": {
      "text/plain": [
       "AttributeDict({'blockHash': HexBytes('0x99c735257e5a2eeb58eb515696b80f0ebe50fc5ac8ea0f130a761274d2765299'),\n",
       " 'blockNumber': 4633513,\n",
       " 'contractAddress': None,\n",
       " 'cumulativeGasUsed': 1066286,\n",
       " 'from': '0x681a298b2a05bfd425a47246922da2cdb5a8b450',\n",
       " 'gasUsed': 30019,\n",
       " 'logs': [AttributeDict({'address': '0x7BF6B044F6e74245F48C76182ec933888B1039CF',\n",
       "   'blockHash': HexBytes('0x99c735257e5a2eeb58eb515696b80f0ebe50fc5ac8ea0f130a761274d2765299'),\n",
       "   'blockNumber': 4633513,\n",
       "   'data': '0x000000000000000000000000dbbadc2ee3110298eab35bbd085e0d1e6351605b',\n",
       "   'logIndex': 12,\n",
       "   'removed': False,\n",
       "   'topics': [HexBytes('0x52d7d861f09ab3d26239d492e8968629f95e9e318cf0b73bfddc441522a15fd2'),\n",
       "    HexBytes('0x2cffe0848574f5631e252f07ffb398d6dabd8f54315b0752f21f4e707a2e842f')],\n",
       "   'transactionHash': HexBytes('0x7ccf883d9183474184d2ea4a70b1449167740ef18cccc49670d02f25b4624f9b'),\n",
       "   'transactionIndex': 12})],\n",
       " 'logsBloom': HexBytes('0x00000000000000000000000000000100000000000000000000000000000000001000000000000000000000000000000000000000000000000000000000000000000000000000000000000000000000000000000004200000000000000000000000000000000000000000000000000000000000000000001000000000000000000000000000000000000000000000000000000000000000000000000000000000000000000002000000000000000000000000008000000000000000000000000000000000000000000000000000000000000000000000000000000000000000000000000000000000000000000000000020000000000000000800000000000000'),\n",
       " 'status': 1,\n",
       " 'to': '0x7bf6b044f6e74245f48c76182ec933888b1039cf',\n",
       " 'transactionHash': HexBytes('0x7ccf883d9183474184d2ea4a70b1449167740ef18cccc49670d02f25b4624f9b'),\n",
       " 'transactionIndex': 12})"
      ]
     },
     "execution_count": 105,
     "metadata": {},
     "output_type": "execute_result"
    }
   ],
   "source": [
    "receipt = sign_transaction(txn)\n",
    "receipt"
   ]
  },
  {
   "cell_type": "code",
   "execution_count": 106,
   "metadata": {},
   "outputs": [
    {
     "data": {
      "text/plain": [
       "True"
      ]
     },
     "execution_count": 106,
     "metadata": {},
     "output_type": "execute_result"
    }
   ],
   "source": [
    "# Confirm that your name now resolves to your contract\n",
    "rns.address('carvertokendeepyr.test') == token.address\n",
    "# eq True\n"
   ]
  },
  {
   "cell_type": "code",
   "execution_count": null,
   "metadata": {},
   "outputs": [],
   "source": []
  },
  {
   "cell_type": "code",
   "execution_count": null,
   "metadata": {},
   "outputs": [],
   "source": []
  },
  {
   "cell_type": "code",
   "execution_count": null,
   "metadata": {
    "collapsed": true
   },
   "outputs": [],
   "source": []
  },
  {
   "cell_type": "code",
   "execution_count": null,
   "metadata": {
    "collapsed": true
   },
   "outputs": [],
   "source": []
  }
 ],
 "metadata": {
  "kernelspec": {
   "display_name": "Python 3",
   "language": "python",
   "name": "python3"
  },
  "language_info": {
   "codemirror_mode": {
    "name": "ipython",
    "version": 3
   },
   "file_extension": ".py",
   "mimetype": "text/x-python",
   "name": "python",
   "nbconvert_exporter": "python",
   "pygments_lexer": "ipython3",
   "version": "3.6.3"
  }
 },
 "nbformat": 4,
 "nbformat_minor": 2
}
